{
 "cells": [
  {
   "cell_type": "markdown",
   "metadata": {
    "id": "UGMb1VgoxEJN"
   },
   "source": [
    "## Analysis\n",
    "- In this notebook, the rainfall of a month is predicted based on the month of previous years."
   ]
  },
  {
   "cell_type": "code",
   "execution_count": 13,
   "metadata": {
    "colab": {
     "base_uri": "https://localhost:8080/",
     "height": 360
    },
    "executionInfo": {
     "elapsed": 10176,
     "status": "ok",
     "timestamp": 1603797996943,
     "user": {
      "displayName": "Ramesh Ravindran",
      "photoUrl": "https://lh3.googleusercontent.com/a-/AOh14GhcjUie2zDWpQEXGBSui04ZAq0Nl9CR7dlOS1FcBg=s64",
      "userId": "08375370966839671912"
     },
     "user_tz": -330
    },
    "id": "JVSBbygHzyHO",
    "outputId": "04f2fa9a-344e-4ba8-ca70-2d0b31f61c85"
   },
   "outputs": [
    {
     "name": "stdout",
     "output_type": "stream",
     "text": [
      "Collecting package metadata (current_repodata.json): done\n",
      "Solving environment: done\n",
      "\n",
      "## Package Plan ##\n",
      "\n",
      "  environment location: /home/user/anaconda3\n",
      "\n",
      "  added / updated specs:\n",
      "    - python-graphviz\n",
      "\n",
      "\n",
      "The following packages will be downloaded:\n",
      "\n",
      "    package                    |            build\n",
      "    ---------------------------|-----------------\n",
      "    conda-4.9.0                |           py37_0         2.9 MB\n",
      "    graphviz-2.40.1            |       h21bd128_2         6.5 MB\n",
      "    python-graphviz-0.14.2     |             py_0          20 KB\n",
      "    ------------------------------------------------------------\n",
      "                                           Total:         9.4 MB\n",
      "\n",
      "The following NEW packages will be INSTALLED:\n",
      "\n",
      "  graphviz           pkgs/main/linux-64::graphviz-2.40.1-h21bd128_2\n",
      "  python-graphviz    pkgs/main/noarch::python-graphviz-0.14.2-py_0\n",
      "\n",
      "The following packages will be UPDATED:\n",
      "\n",
      "  conda              conda-forge::conda-4.8.4-py37hc8dfbb8~ --> pkgs/main::conda-4.9.0-py37_0\n",
      "\n",
      "\n",
      "\n",
      "Downloading and Extracting Packages\n",
      "conda-4.9.0          | 2.9 MB    | ##################################### | 100% \n",
      "python-graphviz-0.14 | 20 KB     | ##################################### | 100% \n",
      "graphviz-2.40.1      | 6.5 MB    | ##################################### | 100% \n",
      "Preparing transaction: done\n",
      "Verifying transaction: done\n",
      "Executing transaction: done\n",
      "\n",
      "Note: you may need to restart the kernel to use updated packages.\n"
     ]
    }
   ],
   "source": [
    "conda install python-graphviz"
   ]
  },
  {
   "cell_type": "markdown",
   "metadata": {
    "id": "-fWqDa6cxEJO"
   },
   "source": [
    "### Import libraries"
   ]
  },
  {
   "cell_type": "code",
   "execution_count": 1,
   "metadata": {
    "colab": {
     "base_uri": "https://localhost:8080/",
     "height": 17
    },
    "executionInfo": {
     "elapsed": 3272,
     "status": "ok",
     "timestamp": 1603798021067,
     "user": {
      "displayName": "Ramesh Ravindran",
      "photoUrl": "https://lh3.googleusercontent.com/a-/AOh14GhcjUie2zDWpQEXGBSui04ZAq0Nl9CR7dlOS1FcBg=s64",
      "userId": "08375370966839671912"
     },
     "user_tz": -330
    },
    "id": "I-ot24M1xEJQ",
    "outputId": "faf584e5-ecd1-4022-e29a-09df460440d5"
   },
   "outputs": [
    {
     "data": {
      "text/html": [
       "        <script type=\"text/javascript\">\n",
       "        window.PlotlyConfig = {MathJaxConfig: 'local'};\n",
       "        if (window.MathJax) {MathJax.Hub.Config({SVG: {font: \"STIX-Web\"}});}\n",
       "        if (typeof require !== 'undefined') {\n",
       "        require.undef(\"plotly\");\n",
       "        requirejs.config({\n",
       "            paths: {\n",
       "                'plotly': ['https://cdn.plot.ly/plotly-latest.min']\n",
       "            }\n",
       "        });\n",
       "        require(['plotly'], function(Plotly) {\n",
       "            window._Plotly = Plotly;\n",
       "        });\n",
       "        }\n",
       "        </script>\n",
       "        "
      ]
     },
     "metadata": {},
     "output_type": "display_data"
    }
   ],
   "source": [
    "import warnings\n",
    "warnings.filterwarnings('ignore')\n",
    "\n",
    "import os\n",
    "import shutil\n",
    "import numpy as np\n",
    "import pandas as pd\n",
    "import seaborn as sns\n",
    "import plotly.graph_objs as go\n",
    "import plotly.offline as py\n",
    "import matplotlib\n",
    "import matplotlib.pyplot as plt\n",
    "#from mpl_toolkits.basemap import Basemap\n",
    "import matplotlib.pyplot as plt\n",
    "from matplotlib.patches import Polygon\n",
    "import matplotlib.patches as mpatches \n",
    "from matplotlib.collections import PatchCollection\n",
    "import plotly.figure_factory as ff\n",
    "from IPython.display import HTML, display\n",
    "from IPython.core import display as ICD\n",
    "from plotly.offline import init_notebook_mode, iplot\n",
    "init_notebook_mode(connected=True)\n",
    "\n",
    "import Artificial_Neural_Networks as ANN\n",
    "import ARIMA\n",
    "\n",
    "import math\n",
    "from itertools import groupby\n",
    "%matplotlib inline\n",
    "from keras.models import Sequential\n",
    "from keras.layers import Dense\n",
    "from keras.layers import LSTM\n",
    "from keras.layers import Flatten\n",
    "from keras.layers.convolutional import Conv1D\n",
    "from keras.layers.convolutional import MaxPooling1D\n",
    "from sklearn.preprocessing import MinMaxScaler\n",
    "from sklearn.metrics import mean_squared_error\n",
    "\n",
    "from IPython.display import SVG\n",
    "from keras.utils.vis_utils import model_to_dot\n",
    "\n",
    "from importlib import reload\n",
    "import itertools"
   ]
  },
  {
   "cell_type": "markdown",
   "metadata": {
    "id": "lAu8YoiwxEJW"
   },
   "source": [
    "### Useful functions"
   ]
  },
  {
   "cell_type": "code",
   "execution_count": 2,
   "metadata": {
    "executionInfo": {
     "elapsed": 1546,
     "status": "ok",
     "timestamp": 1603798028301,
     "user": {
      "displayName": "Ramesh Ravindran",
      "photoUrl": "https://lh3.googleusercontent.com/a-/AOh14GhcjUie2zDWpQEXGBSui04ZAq0Nl9CR7dlOS1FcBg=s64",
      "userId": "08375370966839671912"
     },
     "user_tz": -330
    },
    "id": "oNCFgIgCxEJX"
   },
   "outputs": [],
   "source": [
    "from sklearn.metrics import mean_squared_error\n",
    "from sklearn.metrics import mean_absolute_error\n",
    "\n",
    "def mean_absolute_percentage_error(y_true, y_pred): \n",
    "    y_true, y_pred = np.array(y_true), np.array(y_pred)\n",
    "    return np.mean(np.abs((y_true - y_pred) / y_true)) * 100\n",
    "\n",
    "def root_mean_squared_error(y_true, y_pred):\n",
    "    mse = mean_squared_error(y_true, y_pred)\n",
    "    rmse = np.sqrt(mse)\n",
    "    return rmse\n",
    "\n",
    "def calculate_performance(y_true, y_pred):\n",
    "    mse = mean_squared_error(y_true, y_pred)\n",
    "    mae = mean_absolute_error(y_true, y_pred)\n",
    "    mape = mean_absolute_percentage_error(y_true, y_pred)\n",
    "    rmse = root_mean_squared_error(y_true, y_pred)\n",
    "    return round(mse, 3), round(mae, 3), round(mape, 3), round(rmse, 3)"
   ]
  },
  {
   "cell_type": "markdown",
   "metadata": {
    "id": "Maq4kWKSxEJc"
   },
   "source": [
    "### Dataset"
   ]
  },
  {
   "cell_type": "code",
   "execution_count": 3,
   "metadata": {
    "executionInfo": {
     "elapsed": 8309,
     "status": "ok",
     "timestamp": 1603798038697,
     "user": {
      "displayName": "Ramesh Ravindran",
      "photoUrl": "https://lh3.googleusercontent.com/a-/AOh14GhcjUie2zDWpQEXGBSui04ZAq0Nl9CR7dlOS1FcBg=s64",
      "userId": "08375370966839671912"
     },
     "user_tz": -330
    },
    "id": "DZ9rgNC3xEJd"
   },
   "outputs": [],
   "source": [
    "PATH = 'Dataset/rainfall_data_1901_to_2002.xlsx'\n",
    "data = pd.read_excel(PATH)"
   ]
  },
  {
   "cell_type": "markdown",
   "metadata": {
    "id": "O1BEIig0xEJh"
   },
   "source": [
    "### Preprocess data"
   ]
  },
  {
   "cell_type": "code",
   "execution_count": 4,
   "metadata": {
    "colab": {
     "base_uri": "https://localhost:8080/",
     "height": 309
    },
    "executionInfo": {
     "elapsed": 1461,
     "status": "ok",
     "timestamp": 1603798042116,
     "user": {
      "displayName": "Ramesh Ravindran",
      "photoUrl": "https://lh3.googleusercontent.com/a-/AOh14GhcjUie2zDWpQEXGBSui04ZAq0Nl9CR7dlOS1FcBg=s64",
      "userId": "08375370966839671912"
     },
     "user_tz": -330
    },
    "id": "DXAvqyuSxEJi",
    "outputId": "3d56fb17-b87d-4f6f-ce8a-05c389bbd840"
   },
   "outputs": [
    {
     "data": {
      "text/html": [
       "<div>\n",
       "<style scoped>\n",
       "    .dataframe tbody tr th:only-of-type {\n",
       "        vertical-align: middle;\n",
       "    }\n",
       "\n",
       "    .dataframe tbody tr th {\n",
       "        vertical-align: top;\n",
       "    }\n",
       "\n",
       "    .dataframe thead th {\n",
       "        text-align: right;\n",
       "    }\n",
       "</style>\n",
       "<table border=\"1\" class=\"dataframe\">\n",
       "  <thead>\n",
       "    <tr style=\"text-align: right;\">\n",
       "      <th></th>\n",
       "      <th>Date</th>\n",
       "      <th>Year</th>\n",
       "      <th>Month</th>\n",
       "      <th>Ahmadnagar</th>\n",
       "      <th>Akola</th>\n",
       "      <th>Amravati</th>\n",
       "      <th>Aurangabad</th>\n",
       "      <th>Bhandara</th>\n",
       "      <th>Bid</th>\n",
       "      <th>Buldana</th>\n",
       "      <th>...</th>\n",
       "      <th>Nashik</th>\n",
       "      <th>Osmanabad</th>\n",
       "      <th>Parbhani</th>\n",
       "      <th>Pune</th>\n",
       "      <th>Sangli</th>\n",
       "      <th>Satara</th>\n",
       "      <th>Solapur</th>\n",
       "      <th>Wardha</th>\n",
       "      <th>Washim</th>\n",
       "      <th>Yavatmal</th>\n",
       "    </tr>\n",
       "  </thead>\n",
       "  <tbody>\n",
       "    <tr>\n",
       "      <th>0</th>\n",
       "      <td>1901-01-01</td>\n",
       "      <td>1901</td>\n",
       "      <td>Jan</td>\n",
       "      <td>2.510</td>\n",
       "      <td>34.202</td>\n",
       "      <td>35.651</td>\n",
       "      <td>10.922</td>\n",
       "      <td>23.397</td>\n",
       "      <td>16.647</td>\n",
       "      <td>31.455</td>\n",
       "      <td>...</td>\n",
       "      <td>5.063</td>\n",
       "      <td>15.500</td>\n",
       "      <td>33.207</td>\n",
       "      <td>0.922</td>\n",
       "      <td>0.138</td>\n",
       "      <td>0.197</td>\n",
       "      <td>4.496</td>\n",
       "      <td>45.050</td>\n",
       "      <td>32.485</td>\n",
       "      <td>22.031</td>\n",
       "    </tr>\n",
       "    <tr>\n",
       "      <th>1</th>\n",
       "      <td>1901-02-01</td>\n",
       "      <td>1901</td>\n",
       "      <td>Feb</td>\n",
       "      <td>11.489</td>\n",
       "      <td>1.099</td>\n",
       "      <td>6.822</td>\n",
       "      <td>4.362</td>\n",
       "      <td>63.844</td>\n",
       "      <td>1.916</td>\n",
       "      <td>0.823</td>\n",
       "      <td>...</td>\n",
       "      <td>1.609</td>\n",
       "      <td>2.784</td>\n",
       "      <td>4.997</td>\n",
       "      <td>7.195</td>\n",
       "      <td>0.537</td>\n",
       "      <td>0.525</td>\n",
       "      <td>3.667</td>\n",
       "      <td>28.220</td>\n",
       "      <td>3.607</td>\n",
       "      <td>16.198</td>\n",
       "    </tr>\n",
       "    <tr>\n",
       "      <th>2</th>\n",
       "      <td>1901-03-01</td>\n",
       "      <td>1901</td>\n",
       "      <td>Mar</td>\n",
       "      <td>11.325</td>\n",
       "      <td>30.002</td>\n",
       "      <td>36.103</td>\n",
       "      <td>25.161</td>\n",
       "      <td>33.563</td>\n",
       "      <td>27.287</td>\n",
       "      <td>28.448</td>\n",
       "      <td>...</td>\n",
       "      <td>11.196</td>\n",
       "      <td>11.333</td>\n",
       "      <td>31.625</td>\n",
       "      <td>5.105</td>\n",
       "      <td>13.090</td>\n",
       "      <td>9.566</td>\n",
       "      <td>10.330</td>\n",
       "      <td>26.398</td>\n",
       "      <td>26.557</td>\n",
       "      <td>29.318</td>\n",
       "    </tr>\n",
       "    <tr>\n",
       "      <th>3</th>\n",
       "      <td>1901-04-01</td>\n",
       "      <td>1901</td>\n",
       "      <td>Apr</td>\n",
       "      <td>33.931</td>\n",
       "      <td>10.248</td>\n",
       "      <td>10.636</td>\n",
       "      <td>12.714</td>\n",
       "      <td>61.560</td>\n",
       "      <td>33.211</td>\n",
       "      <td>13.902</td>\n",
       "      <td>...</td>\n",
       "      <td>7.838</td>\n",
       "      <td>34.814</td>\n",
       "      <td>41.941</td>\n",
       "      <td>35.949</td>\n",
       "      <td>50.077</td>\n",
       "      <td>30.110</td>\n",
       "      <td>59.854</td>\n",
       "      <td>29.228</td>\n",
       "      <td>18.127</td>\n",
       "      <td>30.521</td>\n",
       "    </tr>\n",
       "    <tr>\n",
       "      <th>4</th>\n",
       "      <td>1901-05-01</td>\n",
       "      <td>1901</td>\n",
       "      <td>May</td>\n",
       "      <td>30.401</td>\n",
       "      <td>2.891</td>\n",
       "      <td>4.173</td>\n",
       "      <td>34.244</td>\n",
       "      <td>13.665</td>\n",
       "      <td>59.027</td>\n",
       "      <td>9.397</td>\n",
       "      <td>...</td>\n",
       "      <td>7.475</td>\n",
       "      <td>52.792</td>\n",
       "      <td>31.794</td>\n",
       "      <td>36.650</td>\n",
       "      <td>78.994</td>\n",
       "      <td>65.226</td>\n",
       "      <td>50.892</td>\n",
       "      <td>8.619</td>\n",
       "      <td>6.700</td>\n",
       "      <td>13.193</td>\n",
       "    </tr>\n",
       "  </tbody>\n",
       "</table>\n",
       "<p>5 rows × 32 columns</p>\n",
       "</div>"
      ],
      "text/plain": [
       "        Date  Year Month  Ahmadnagar   Akola  Amravati  Aurangabad  Bhandara  \\\n",
       "0 1901-01-01  1901   Jan       2.510  34.202    35.651      10.922    23.397   \n",
       "1 1901-02-01  1901   Feb      11.489   1.099     6.822       4.362    63.844   \n",
       "2 1901-03-01  1901   Mar      11.325  30.002    36.103      25.161    33.563   \n",
       "3 1901-04-01  1901   Apr      33.931  10.248    10.636      12.714    61.560   \n",
       "4 1901-05-01  1901   May      30.401   2.891     4.173      34.244    13.665   \n",
       "\n",
       "      Bid  Buldana  ...  Nashik  Osmanabad  Parbhani    Pune  Sangli  Satara  \\\n",
       "0  16.647   31.455  ...   5.063     15.500    33.207   0.922   0.138   0.197   \n",
       "1   1.916    0.823  ...   1.609      2.784     4.997   7.195   0.537   0.525   \n",
       "2  27.287   28.448  ...  11.196     11.333    31.625   5.105  13.090   9.566   \n",
       "3  33.211   13.902  ...   7.838     34.814    41.941  35.949  50.077  30.110   \n",
       "4  59.027    9.397  ...   7.475     52.792    31.794  36.650  78.994  65.226   \n",
       "\n",
       "   Solapur  Wardha  Washim  Yavatmal  \n",
       "0    4.496  45.050  32.485    22.031  \n",
       "1    3.667  28.220   3.607    16.198  \n",
       "2   10.330  26.398  26.557    29.318  \n",
       "3   59.854  29.228  18.127    30.521  \n",
       "4   50.892   8.619   6.700    13.193  \n",
       "\n",
       "[5 rows x 32 columns]"
      ]
     },
     "execution_count": 4,
     "metadata": {},
     "output_type": "execute_result"
    }
   ],
   "source": [
    "data = data.drop(columns='vlookup')\n",
    "data = data[data['Year'].notnull()]\n",
    "data['Year'] = data.Year.astype('int')\n",
    "data.index = range(len(data))\n",
    "\n",
    "m_data = data[data['State'] == 'Maharashtra']\n",
    "m_data = m_data.drop(columns='State')\n",
    "\n",
    "districts = m_data.District.unique()\n",
    "years = list(range(1901, 2003))\n",
    "months = data.columns[3:]\n",
    "year_month = [str(year) + '_' + month for year in years for month in months]\n",
    "dates = pd.date_range(start='1901-01', freq='MS', periods=len(years)*12)\n",
    "\n",
    "maharashtra_data = pd.DataFrame({'Year_Month': year_month})\n",
    "maharashtra_data['Date'] = dates\n",
    "maharashtra_data[['Year', 'Month']] = maharashtra_data['Year_Month'].str.split('_', n=1, expand=True)\n",
    "maharashtra_data = maharashtra_data.drop(columns=['Year_Month'])\n",
    "\n",
    "for district in districts:\n",
    "    df = m_data[m_data.District == district].drop(columns=['District', 'Year'])\n",
    "    df = df.to_numpy().reshape((len(years) * len(months), 1))[:,0]\n",
    "    maharashtra_data[district] = df\n",
    "\n",
    "maharashtra_data.head()"
   ]
  },
  {
   "cell_type": "code",
   "execution_count": 5,
   "metadata": {
    "executionInfo": {
     "elapsed": 1656,
     "status": "ok",
     "timestamp": 1603798048448,
     "user": {
      "displayName": "Ramesh Ravindran",
      "photoUrl": "https://lh3.googleusercontent.com/a-/AOh14GhcjUie2zDWpQEXGBSui04ZAq0Nl9CR7dlOS1FcBg=s64",
      "userId": "08375370966839671912"
     },
     "user_tz": -330
    },
    "id": "QTspu46QxEJm"
   },
   "outputs": [],
   "source": [
    "m_data = maharashtra_data.copy()"
   ]
  },
  {
   "cell_type": "code",
   "execution_count": 6,
   "metadata": {
    "executionInfo": {
     "elapsed": 988,
     "status": "ok",
     "timestamp": 1603798049959,
     "user": {
      "displayName": "Ramesh Ravindran",
      "photoUrl": "https://lh3.googleusercontent.com/a-/AOh14GhcjUie2zDWpQEXGBSui04ZAq0Nl9CR7dlOS1FcBg=s64",
      "userId": "08375370966839671912"
     },
     "user_tz": -330
    },
    "id": "mRCroB7NxEJr"
   },
   "outputs": [],
   "source": [
    "districts_of_interest = ['Kolhapur', 'Latur']\n",
    "months_of_interest = ['Jun', 'Jul', 'Aug', 'Sep']"
   ]
  },
  {
   "cell_type": "code",
   "execution_count": 7,
   "metadata": {
    "executionInfo": {
     "elapsed": 1582,
     "status": "ok",
     "timestamp": 1603798056767,
     "user": {
      "displayName": "Ramesh Ravindran",
      "photoUrl": "https://lh3.googleusercontent.com/a-/AOh14GhcjUie2zDWpQEXGBSui04ZAq0Nl9CR7dlOS1FcBg=s64",
      "userId": "08375370966839671912"
     },
     "user_tz": -330
    },
    "id": "xUEQR_I-xEJw"
   },
   "outputs": [],
   "source": [
    "rainfall_season_data = m_data[m_data.Month.isin(months_of_interest)]\n",
    "rainfall_season_data = rainfall_season_data[['Date', 'Year', 'Month'] + districts_of_interest]"
   ]
  },
  {
   "cell_type": "code",
   "execution_count": 8,
   "metadata": {
    "colab": {
     "base_uri": "https://localhost:8080/",
     "height": 204
    },
    "executionInfo": {
     "elapsed": 996,
     "status": "ok",
     "timestamp": 1603798058236,
     "user": {
      "displayName": "Ramesh Ravindran",
      "photoUrl": "https://lh3.googleusercontent.com/a-/AOh14GhcjUie2zDWpQEXGBSui04ZAq0Nl9CR7dlOS1FcBg=s64",
      "userId": "08375370966839671912"
     },
     "user_tz": -330
    },
    "id": "IKInDQLlxEJ1",
    "outputId": "85e4cb34-9a76-499e-ed52-c83da8632d0b"
   },
   "outputs": [
    {
     "data": {
      "text/html": [
       "<div>\n",
       "<style scoped>\n",
       "    .dataframe tbody tr th:only-of-type {\n",
       "        vertical-align: middle;\n",
       "    }\n",
       "\n",
       "    .dataframe tbody tr th {\n",
       "        vertical-align: top;\n",
       "    }\n",
       "\n",
       "    .dataframe thead th {\n",
       "        text-align: right;\n",
       "    }\n",
       "</style>\n",
       "<table border=\"1\" class=\"dataframe\">\n",
       "  <thead>\n",
       "    <tr style=\"text-align: right;\">\n",
       "      <th></th>\n",
       "      <th>Date</th>\n",
       "      <th>Year</th>\n",
       "      <th>Month</th>\n",
       "      <th>Kolhapur</th>\n",
       "      <th>Latur</th>\n",
       "    </tr>\n",
       "  </thead>\n",
       "  <tbody>\n",
       "    <tr>\n",
       "      <th>5</th>\n",
       "      <td>1901-06-01</td>\n",
       "      <td>1901</td>\n",
       "      <td>Jun</td>\n",
       "      <td>554.047</td>\n",
       "      <td>188.878</td>\n",
       "    </tr>\n",
       "    <tr>\n",
       "      <th>6</th>\n",
       "      <td>1901-07-01</td>\n",
       "      <td>1901</td>\n",
       "      <td>Jul</td>\n",
       "      <td>496.636</td>\n",
       "      <td>175.092</td>\n",
       "    </tr>\n",
       "    <tr>\n",
       "      <th>7</th>\n",
       "      <td>1901-08-01</td>\n",
       "      <td>1901</td>\n",
       "      <td>Aug</td>\n",
       "      <td>507.657</td>\n",
       "      <td>138.084</td>\n",
       "    </tr>\n",
       "    <tr>\n",
       "      <th>8</th>\n",
       "      <td>1901-09-01</td>\n",
       "      <td>1901</td>\n",
       "      <td>Sep</td>\n",
       "      <td>221.539</td>\n",
       "      <td>102.949</td>\n",
       "    </tr>\n",
       "    <tr>\n",
       "      <th>17</th>\n",
       "      <td>1902-06-01</td>\n",
       "      <td>1902</td>\n",
       "      <td>Jun</td>\n",
       "      <td>631.349</td>\n",
       "      <td>46.720</td>\n",
       "    </tr>\n",
       "  </tbody>\n",
       "</table>\n",
       "</div>"
      ],
      "text/plain": [
       "         Date  Year Month  Kolhapur    Latur\n",
       "5  1901-06-01  1901   Jun   554.047  188.878\n",
       "6  1901-07-01  1901   Jul   496.636  175.092\n",
       "7  1901-08-01  1901   Aug   507.657  138.084\n",
       "8  1901-09-01  1901   Sep   221.539  102.949\n",
       "17 1902-06-01  1902   Jun   631.349   46.720"
      ]
     },
     "execution_count": 8,
     "metadata": {},
     "output_type": "execute_result"
    }
   ],
   "source": [
    "rainfall_season_data.head()"
   ]
  },
  {
   "cell_type": "markdown",
   "metadata": {
    "id": "Fow_UaF_xEJ6"
   },
   "source": [
    "### Parameters"
   ]
  },
  {
   "cell_type": "code",
   "execution_count": 9,
   "metadata": {
    "executionInfo": {
     "elapsed": 1671,
     "status": "ok",
     "timestamp": 1603798062493,
     "user": {
      "displayName": "Ramesh Ravindran",
      "photoUrl": "https://lh3.googleusercontent.com/a-/AOh14GhcjUie2zDWpQEXGBSui04ZAq0Nl9CR7dlOS1FcBg=s64",
      "userId": "08375370966839671912"
     },
     "user_tz": -330
    },
    "id": "ISB_p6FwxEJ7"
   },
   "outputs": [],
   "source": [
    "future_steps = 10\n",
    "STORAGE_FOLDER = 'State_predictions/'\n",
    "if not os.path.exists(STORAGE_FOLDER):\n",
    "    os.makedirs(STORAGE_FOLDER)\n",
    "\n",
    "parameters_WNN = [[3,6,8,10,12], [4,5,6], [1], [300], [20], [future_steps]]\n",
    "#parameters_WNN = [[12], [4], [1], [50], [20], [future_steps]]\n",
    "\n",
    "# time_lagged_points, hidden_nodes, output_nodes, epochs, batch_size, future_steps\n",
    "#parameters_TLNN = [[[1,2,3,11,12], [1,2,3,4,11,12], [1,2,3,4,5,6,10,11,12]], [3,4,5,6], [1], [300], [20], [future_steps]]\n",
    "#parameters_TLNN = [[[1,2,3,4,5,6,10,11,12]], [4], [1], [30], [20], [future_steps]]\n",
    "\n",
    "# seasonal_period, hidden_nodes, epochs, batch_size, future_steps\n",
    "parameters_WAANN = [[12], [3,4,5,6], [300], [20], [future_steps]]\n",
    "#parameters_WAANN = [[12], [3], [50], [20], [future_steps]]\n",
    "\n",
    "# look_back, hidden_nodes, output_nodes, epochs, batch_size, future_steps\n",
    "parameters_LSTM = [[6,8,10,11,12], [4,5,6], [1], [300], [20], [future_steps]]\n",
    "#parameters_LSTM = [[12], [4], [1], [30], [20], [future_steps]]"
   ]
  },
  {
   "cell_type": "markdown",
   "metadata": {
    "id": "76F6f83RxEJ-"
   },
   "source": [
    "### Run, Compare and Save output"
   ]
  },
  {
   "cell_type": "code",
   "execution_count": 11,
   "metadata": {
    "colab": {
     "base_uri": "https://localhost:8080/",
     "height": 445
    },
    "executionInfo": {
     "elapsed": 3687,
     "status": "error",
     "timestamp": 1603797882055,
     "user": {
      "displayName": "Ramesh Ravindran",
      "photoUrl": "https://lh3.googleusercontent.com/a-/AOh14GhcjUie2zDWpQEXGBSui04ZAq0Nl9CR7dlOS1FcBg=s64",
      "userId": "08375370966839671912"
     },
     "user_tz": -330
    },
    "id": "MzfYYjALxEJ_",
    "outputId": "fe8a84c8-5dc9-4c0e-abc2-af48740881cf"
   },
   "outputs": [
    {
     "name": "stdout",
     "output_type": "stream",
     "text": [
      "WNN - Number of combinations: 15\n",
      "1 -> [588.6365176513194, 618.7587643234133, 612.5294415065646, 595.4105038583278, 598.6796489149332, 595.5742522900699, 593.998339077115, 594.0247040040492, 593.4371579014062, 593.2631917369365]\n",
      "2 -> [594.4674547750353, 624.319275650382, 621.1133428884743, 600.8353787539601, 604.8801714903116, 601.4948725186586, 599.1452704659104, 599.270053865075, 598.4417292730808, 598.1238677845]\n",
      "3 -> [598.4543823203444, 623.42773876369, 621.5306816816925, 602.6558822529315, 605.618495327711, 602.921649187088, 600.7527368845939, 600.781960659027, 600.1367081902026, 599.8443116210102]\n",
      "4 -> [592.8487117912173, 623.9319547559022, 624.9606104393005, 609.3658090993165, 595.4648484316169, 609.4751864869594, 598.4300821166038, 598.3883641197681, 598.7226375106573, 598.4275409188269]\n",
      "5 -> [634.8823465674519, 618.1129824383854, 647.9797328506708, 632.1396000419854, 583.7968594270347, 586.7332663997411, 604.8277063445448, 590.5102804203628, 585.9829777561425, 599.9170004657506]\n",
      "6 -> [592.3503458480536, 609.1179364328384, 585.6713898495733, 580.3687836261391, 569.7326797437966, 618.2336363911628, 595.7054151544868, 605.8729327551125, 596.772056450486, 597.8181828685998]\n",
      "7 -> [597.4641622533202, 647.143467015624, 654.6092413757442, 634.6155208008885, 622.3317413392066, 639.4777850970625, 606.2132414907217, 617.3125051386952, 618.034840606749, 612.7999202449321]\n",
      "8 -> [590.1044564295709, 652.0918143864869, 646.3782488350868, 627.4087368475198, 621.3959452579021, 633.0439488008021, 600.9024557869434, 622.3520709214209, 613.252782865405, 611.0111817181705]\n",
      "9 -> [573.1254170131086, 639.6833044672608, 593.3096744796037, 587.4512606549263, 591.3835524480342, 615.4654249463081, 584.36508183825, 616.9386843574047, 593.5040761095285, 599.9679832461476]\n",
      "10 -> [514.5500935461223, 632.8701944028138, 639.7444520387648, 568.6870562710761, 632.116835145235, 627.0737222739457, 554.6143000453412, 602.0796656570434, 584.3427934160828, 548.3715300569236]\n",
      "11 -> [499.95316233730307, 645.894997724533, 619.9262858769893, 561.8933493104875, 612.2761158531904, 594.7118862361907, 536.2207399455606, 591.8173031435608, 558.0088638005554, 535.5751962978243]\n",
      "12 -> [514.8887346206902, 632.1117527496814, 637.5201098597645, 573.2003294059037, 617.8661156626939, 618.2894368590115, 564.8128943771123, 604.3424963940381, 589.802768606007, 553.0818783735036]\n",
      "13 -> [648.3814538658856, 655.7539450909494, 621.961679412961, 611.0702116248607, 620.7107748073339, 608.5363197916745, 553.7896019543408, 593.7605517893135, 589.8951782043277, 600.5635235334634]\n",
      "14 -> [632.4172788407205, 610.97025784564, 816.7408889740705, 537.079188319534, 632.8485942217111, 633.9149443387985, 564.1555182772278, 530.3999146713315, 602.829371942818, 556.7290795410274]\n",
      "15\n",
      "[527.3111152444482, 701.4704107452034, 656.8429542215465, 578.2387304729818, 647.0159306522011, 613.4309314178823, 552.3458839673996, 611.2113010430932, 571.9451894706486, 543.5625515016317]\n",
      "=== Best parameters of WNN ===\n",
      "\n",
      "Input nodes(p): 8.0\n",
      "Hidden nodes: 5.0\n",
      "Output nodes: 1.0\n",
      "Number of epochs: 300.0\n",
      "Batch size: 20.0\n",
      "Number of future steps forecasted: 10.0\n",
      "Mean Squared Error(MSE): 71291.689\n",
      "Mean Absolute Error(MAE): 223.537\n",
      "Root Mean Squared Error(RMSE): 267.005\n",
      "\n",
      "\n",
      "\n",
      "TLNN - Number of combinations: 15\n",
      "1 -> "
     ]
    },
    {
     "ename": "TypeError",
     "evalue": "'int' object is not iterable",
     "output_type": "error",
     "traceback": [
      "\u001b[0;31m---------------------------------------------------------------------------\u001b[0m",
      "\u001b[0;31mTypeError\u001b[0m                                 Traceback (most recent call last)",
      "\u001b[0;32m<ipython-input-11-5b316988bf6e>\u001b[0m in \u001b[0;36m<module>\u001b[0;34m\u001b[0m\n\u001b[1;32m     22\u001b[0m         \u001b[0mANN\u001b[0m \u001b[0;34m=\u001b[0m \u001b[0mreload\u001b[0m\u001b[0;34m(\u001b[0m\u001b[0mANN\u001b[0m\u001b[0;34m)\u001b[0m\u001b[0;34m\u001b[0m\u001b[0;34m\u001b[0m\u001b[0m\n\u001b[1;32m     23\u001b[0m         RMSE_info = ANN.compare_ANN_methods(rainfall_data, test_rainfall_data, scaler, \n\u001b[0;32m---> 24\u001b[0;31m                         parameters_WNN,parameters_WNN, parameters_WAANN, parameters_LSTM, future_steps, output_folder)\n\u001b[0m\u001b[1;32m     25\u001b[0m \u001b[0;34m\u001b[0m\u001b[0m\n\u001b[1;32m     26\u001b[0m         \u001b[0mANN\u001b[0m \u001b[0;34m=\u001b[0m \u001b[0mreload\u001b[0m\u001b[0;34m(\u001b[0m\u001b[0mANN\u001b[0m\u001b[0;34m)\u001b[0m\u001b[0;34m\u001b[0m\u001b[0;34m\u001b[0m\u001b[0m\n",
      "\u001b[0;32m~/Desktop/2020-projects/truproject_python/rainfall/Maharashtra_rainy_season_analysis/Artificial_Neural_Networks.py\u001b[0m in \u001b[0;36mcompare_ANN_methods\u001b[0;34m(rainfall_data, test_rainfall_data, scaler, parameters_WNN, parameters_TLNN, parameters_WAANN, parameters_LSTM, future_steps, STORAGE_FOLDER)\u001b[0m\n\u001b[1;32m    627\u001b[0m     \u001b[0moptimized_params_WNN\u001b[0m \u001b[0;34m=\u001b[0m \u001b[0manalyze_results\u001b[0m\u001b[0;34m(\u001b[0m\u001b[0minformation_WNN_df\u001b[0m\u001b[0;34m,\u001b[0m \u001b[0mtest_rainfall_data\u001b[0m\u001b[0;34m,\u001b[0m \u001b[0;34m'WNN'\u001b[0m\u001b[0;34m,\u001b[0m \u001b[0mSTORAGE_FOLDER\u001b[0m\u001b[0;34m)\u001b[0m\u001b[0;34m\u001b[0m\u001b[0;34m\u001b[0m\u001b[0m\n\u001b[1;32m    628\u001b[0m \u001b[0;34m\u001b[0m\u001b[0m\n\u001b[0;32m--> 629\u001b[0;31m     \u001b[0minformation_TLNN_df\u001b[0m \u001b[0;34m=\u001b[0m \u001b[0mget_accuracies_TLNN\u001b[0m\u001b[0;34m(\u001b[0m\u001b[0mrainfall_data\u001b[0m\u001b[0;34m,\u001b[0m \u001b[0mtest_rainfall_data\u001b[0m\u001b[0;34m,\u001b[0m \u001b[0mparameters_TLNN\u001b[0m\u001b[0;34m,\u001b[0m \u001b[0mscaler\u001b[0m\u001b[0;34m)\u001b[0m\u001b[0;34m\u001b[0m\u001b[0;34m\u001b[0m\u001b[0m\n\u001b[0m\u001b[1;32m    630\u001b[0m     \u001b[0moptimized_params_TLNN\u001b[0m \u001b[0;34m=\u001b[0m \u001b[0manalyze_results\u001b[0m\u001b[0;34m(\u001b[0m\u001b[0minformation_TLNN_df\u001b[0m\u001b[0;34m,\u001b[0m \u001b[0mtest_rainfall_data\u001b[0m\u001b[0;34m,\u001b[0m \u001b[0;34m'TLNN'\u001b[0m\u001b[0;34m,\u001b[0m \u001b[0mSTORAGE_FOLDER\u001b[0m\u001b[0;34m)\u001b[0m\u001b[0;34m\u001b[0m\u001b[0;34m\u001b[0m\u001b[0m\n\u001b[1;32m    631\u001b[0m \u001b[0;34m\u001b[0m\u001b[0m\n",
      "\u001b[0;32m~/Desktop/2020-projects/truproject_python/rainfall/Maharashtra_rainy_season_analysis/Artificial_Neural_Networks.py\u001b[0m in \u001b[0;36mget_accuracies_TLNN\u001b[0;34m(rainfall_data, test_rainfall_data, parameters, scaler)\u001b[0m\n\u001b[1;32m    301\u001b[0m         \u001b[0mfuture_steps\u001b[0m \u001b[0;34m=\u001b[0m \u001b[0mparam\u001b[0m\u001b[0;34m[\u001b[0m\u001b[0;36m5\u001b[0m\u001b[0;34m]\u001b[0m\u001b[0;34m\u001b[0m\u001b[0;34m\u001b[0m\u001b[0m\n\u001b[1;32m    302\u001b[0m \u001b[0;34m\u001b[0m\u001b[0m\n\u001b[0;32m--> 303\u001b[0;31m         \u001b[0mmodel_TLNN\u001b[0m\u001b[0;34m,\u001b[0m \u001b[0mforecasted_values_TLNN\u001b[0m \u001b[0;34m=\u001b[0m \u001b[0mTLNN\u001b[0m\u001b[0;34m(\u001b[0m\u001b[0mrainfall_data\u001b[0m\u001b[0;34m,\u001b[0m \u001b[0mtime_lagged_points\u001b[0m\u001b[0;34m,\u001b[0m \u001b[0mhidden_nodes\u001b[0m\u001b[0;34m,\u001b[0m \u001b[0moutput_nodes\u001b[0m\u001b[0;34m,\u001b[0m \u001b[0mepochs\u001b[0m\u001b[0;34m,\u001b[0m \u001b[0mbatch_size\u001b[0m\u001b[0;34m,\u001b[0m \u001b[0mfuture_steps\u001b[0m\u001b[0;34m,\u001b[0m \u001b[0mscaler\u001b[0m\u001b[0;34m)\u001b[0m\u001b[0;34m\u001b[0m\u001b[0;34m\u001b[0m\u001b[0m\n\u001b[0m\u001b[1;32m    304\u001b[0m \u001b[0;34m\u001b[0m\u001b[0m\n\u001b[1;32m    305\u001b[0m         \u001b[0my_true\u001b[0m \u001b[0;34m=\u001b[0m \u001b[0mtest_rainfall_data\u001b[0m\u001b[0;34m.\u001b[0m\u001b[0mix\u001b[0m\u001b[0;34m[\u001b[0m\u001b[0;34m:\u001b[0m\u001b[0mfuture_steps\u001b[0m\u001b[0;34m]\u001b[0m\u001b[0;34m.\u001b[0m\u001b[0mPrecipitation\u001b[0m\u001b[0;34m\u001b[0m\u001b[0;34m\u001b[0m\u001b[0m\n",
      "\u001b[0;32m~/Desktop/2020-projects/truproject_python/rainfall/Maharashtra_rainy_season_analysis/Artificial_Neural_Networks.py\u001b[0m in \u001b[0;36mTLNN\u001b[0;34m(data, time_lagged_points, hidden_nodes, output_nodes, epochs, batch_size, future_steps, scaler)\u001b[0m\n\u001b[1;32m    265\u001b[0m \u001b[0;32mdef\u001b[0m \u001b[0mTLNN\u001b[0m\u001b[0;34m(\u001b[0m\u001b[0mdata\u001b[0m\u001b[0;34m,\u001b[0m \u001b[0mtime_lagged_points\u001b[0m\u001b[0;34m,\u001b[0m \u001b[0mhidden_nodes\u001b[0m\u001b[0;34m,\u001b[0m \u001b[0moutput_nodes\u001b[0m\u001b[0;34m,\u001b[0m \u001b[0mepochs\u001b[0m\u001b[0;34m,\u001b[0m \u001b[0mbatch_size\u001b[0m\u001b[0;34m,\u001b[0m \u001b[0mfuture_steps\u001b[0m\u001b[0;34m,\u001b[0m \u001b[0mscaler\u001b[0m\u001b[0;34m)\u001b[0m\u001b[0;34m:\u001b[0m\u001b[0;34m\u001b[0m\u001b[0;34m\u001b[0m\u001b[0m\n\u001b[1;32m    266\u001b[0m     \u001b[0mdata\u001b[0m \u001b[0;34m=\u001b[0m \u001b[0mscaler\u001b[0m\u001b[0;34m.\u001b[0m\u001b[0mtransform\u001b[0m\u001b[0;34m(\u001b[0m\u001b[0mdata\u001b[0m\u001b[0;34m)\u001b[0m\u001b[0;34m\u001b[0m\u001b[0;34m\u001b[0m\u001b[0m\n\u001b[0;32m--> 267\u001b[0;31m     \u001b[0mX_train\u001b[0m\u001b[0;34m,\u001b[0m \u001b[0my_train\u001b[0m\u001b[0;34m,\u001b[0m \u001b[0minput_seq_for_test_TLNN\u001b[0m \u001b[0;34m=\u001b[0m \u001b[0mpreprocess_TLNN\u001b[0m\u001b[0;34m(\u001b[0m\u001b[0mdata\u001b[0m\u001b[0;34m,\u001b[0m \u001b[0mtime_lagged_points\u001b[0m\u001b[0;34m)\u001b[0m\u001b[0;34m\u001b[0m\u001b[0;34m\u001b[0m\u001b[0m\n\u001b[0m\u001b[1;32m    268\u001b[0m     \u001b[0mX_train\u001b[0m\u001b[0;34m,\u001b[0m \u001b[0my_train\u001b[0m \u001b[0;34m=\u001b[0m \u001b[0mreshape_arrays\u001b[0m\u001b[0;34m(\u001b[0m\u001b[0mX_train\u001b[0m\u001b[0;34m,\u001b[0m \u001b[0my_train\u001b[0m\u001b[0;34m)\u001b[0m\u001b[0;34m\u001b[0m\u001b[0;34m\u001b[0m\u001b[0m\n\u001b[1;32m    269\u001b[0m     \u001b[0mmodel_TLNN\u001b[0m \u001b[0;34m=\u001b[0m \u001b[0mcreate_NN\u001b[0m\u001b[0;34m(\u001b[0m\u001b[0minput_nodes\u001b[0m\u001b[0;34m=\u001b[0m\u001b[0mlen\u001b[0m\u001b[0;34m(\u001b[0m\u001b[0mtime_lagged_points\u001b[0m\u001b[0;34m)\u001b[0m\u001b[0;34m,\u001b[0m \u001b[0mhidden_nodes\u001b[0m\u001b[0;34m=\u001b[0m\u001b[0mhidden_nodes\u001b[0m\u001b[0;34m,\u001b[0m \u001b[0moutput_nodes\u001b[0m\u001b[0;34m=\u001b[0m\u001b[0moutput_nodes\u001b[0m\u001b[0;34m)\u001b[0m\u001b[0;34m\u001b[0m\u001b[0;34m\u001b[0m\u001b[0m\n",
      "\u001b[0;32m~/Desktop/2020-projects/truproject_python/rainfall/Maharashtra_rainy_season_analysis/Artificial_Neural_Networks.py\u001b[0m in \u001b[0;36mpreprocess_TLNN\u001b[0;34m(data, time_lagged_points)\u001b[0m\n\u001b[1;32m    235\u001b[0m     \u001b[0mX_train\u001b[0m \u001b[0;34m=\u001b[0m \u001b[0;34m[\u001b[0m\u001b[0;34m]\u001b[0m\u001b[0;34m\u001b[0m\u001b[0;34m\u001b[0m\u001b[0m\n\u001b[1;32m    236\u001b[0m     \u001b[0my_train\u001b[0m \u001b[0;34m=\u001b[0m \u001b[0;34m[\u001b[0m\u001b[0;34m]\u001b[0m\u001b[0;34m\u001b[0m\u001b[0;34m\u001b[0m\u001b[0m\n\u001b[0;32m--> 237\u001b[0;31m     \u001b[0;32mfor\u001b[0m \u001b[0mi\u001b[0m \u001b[0;32min\u001b[0m \u001b[0mrange\u001b[0m\u001b[0;34m(\u001b[0m\u001b[0mmax\u001b[0m\u001b[0;34m(\u001b[0m\u001b[0mtime_lagged_points\u001b[0m\u001b[0;34m)\u001b[0m\u001b[0;34m,\u001b[0m \u001b[0mdata\u001b[0m\u001b[0;34m.\u001b[0m\u001b[0mshape\u001b[0m\u001b[0;34m[\u001b[0m\u001b[0;36m0\u001b[0m\u001b[0;34m]\u001b[0m\u001b[0;34m)\u001b[0m\u001b[0;34m:\u001b[0m\u001b[0;34m\u001b[0m\u001b[0;34m\u001b[0m\u001b[0m\n\u001b[0m\u001b[1;32m    238\u001b[0m         \u001b[0mx\u001b[0m \u001b[0;34m=\u001b[0m \u001b[0;34m[\u001b[0m\u001b[0mdata\u001b[0m\u001b[0;34m[\u001b[0m\u001b[0mi\u001b[0m\u001b[0;34m-\u001b[0m\u001b[0mp\u001b[0m\u001b[0;34m]\u001b[0m \u001b[0;32mfor\u001b[0m \u001b[0mp\u001b[0m \u001b[0;32min\u001b[0m \u001b[0mtime_lagged_points\u001b[0m\u001b[0;34m]\u001b[0m\u001b[0;34m\u001b[0m\u001b[0;34m\u001b[0m\u001b[0m\n\u001b[1;32m    239\u001b[0m         \u001b[0my\u001b[0m \u001b[0;34m=\u001b[0m \u001b[0mdata\u001b[0m\u001b[0;34m[\u001b[0m\u001b[0mi\u001b[0m\u001b[0;34m]\u001b[0m\u001b[0;34m\u001b[0m\u001b[0;34m\u001b[0m\u001b[0m\n",
      "\u001b[0;31mTypeError\u001b[0m: 'int' object is not iterable"
     ]
    },
    {
     "data": {
      "image/png": "[encoded data removed]",
      "text/plain": [
       "<Figure size 720x360 with 1 Axes>"
      ]
     },
     "metadata": {
      "needs_background": "light"
     },
     "output_type": "display_data"
    },
    {
     "data": {
      "image/png": "[encoded data removed]",
      "text/plain": [
       "<Figure size 720x360 with 1 Axes>"
      ]
     },
     "metadata": {
      "needs_background": "light"
     },
     "output_type": "display_data"
    }
   ],
   "source": [
    "for district in districts_of_interest:\n",
    "    temp_data = rainfall_season_data[['Date', 'Year', 'Month', district]]\n",
    "    for month in months_of_interest:\n",
    "        df = temp_data[temp_data.Month == month]\n",
    "        df.index = range(len(df))\n",
    "        df = df[['Date', district]]\n",
    "        dates = df.Date\n",
    "        \n",
    "        rainfall_data = pd.DataFrame({'Precipitation': df[district][:-1*future_steps]})\n",
    "        rainfall_data.index = dates[:-1*future_steps]\n",
    "        \n",
    "        test_rainfall_data = pd.DataFrame({'Precipitation': df[district][-1*future_steps:]})\n",
    "        test_rainfall_data.index = dates[-1*future_steps:]\n",
    "        \n",
    "        scaler = MinMaxScaler(feature_range=(0, 1))\n",
    "        scaler.fit(rainfall_data)\n",
    "\n",
    "        output_folder = STORAGE_FOLDER + district + '_' + month + '/'\n",
    "        if not os.path.exists(output_folder):\n",
    "            os.makedirs(output_folder)\n",
    "        \n",
    "        ANN = reload(ANN)\n",
    "        RMSE_info = ANN.compare_ANN_methods(rainfall_data, test_rainfall_data, scaler, \n",
    "                        parameters_WNN, parameters_WAANN, parameters_LSTM, future_steps, output_folder)\n",
    "\n",
    "        ANN = reload(ANN)\n",
    "        ANN.save_RMSE_info(output_folder, RMSE_info)"
   ]
  },
  {
   "cell_type": "code",
   "execution_count": 11,
   "metadata": {
    "id": "yl4PLPLcxEKD",
    "outputId": "ea451a14-5fac-4163-cab4-139b1f978a36"
   },
   "outputs": [
    {
     "name": "stdout",
     "output_type": "stream",
     "text": [
      "State_predictions/Kolhapur_Jun/\n",
      "(0, 0, 0)\n",
      "1447.50889480904\n",
      "1392.8712403941047\n",
      "1140.1872082836812\n",
      "1110.6166054364182\n",
      "1325.1389829924722\n",
      "1299.7849693330024\n",
      "1117.444755761553\n",
      "1112.129407745656\n",
      "(0, 0, 1)\n",
      "1391.7596185962182\n",
      "1363.2646271124092\n",
      "1142.161042089292\n",
      "1112.5136422254877\n",
      "1324.7382151851014\n",
      "1301.1127636763463\n",
      "1118.7428194899403\n",
      "1113.879220452003\n",
      "(0, 1, 0)\n",
      "1292.4687115227955\n",
      "1294.4629149382379\n",
      "1178.8490724904273\n",
      "1154.2353423415025\n",
      "1294.4646975718508\n",
      "1293.508289121258\n",
      "1165.47653323321\n",
      "1156.0192361217412\n",
      "(0, 1, 1)\n",
      "1234.098504417735\n",
      "1236.0914327188148\n",
      "1134.5483532490596\n",
      "1103.4853748187281\n",
      "1236.0899638882618\n",
      "1237.329509436079\n",
      "1110.0059997784936\n",
      "1104.9803529151588\n",
      "(1, 0, 0)\n",
      "1305.2533320368864\n",
      "1306.7338948631375\n",
      "1142.1234781874466\n",
      "1112.4818991307816\n",
      "1306.7774744709973\n",
      "1309.1416127942264\n",
      "1118.4771139841946\n",
      "1113.805812515327\n",
      "(1, 0, 1)\n",
      "1251.6910046204835\n",
      "1253.6750753142949\n",
      "1141.6523181521343\n",
      "1114.4795878063842\n",
      "1253.6731392327479\n",
      "1256.0707476768243\n",
      "1121.4379820699346\n",
      "1116.093588306132\n",
      "(1, 1, 0)\n",
      "1259.7024909460795\n",
      "1260.3465334398827\n",
      "1140.8254291532692\n",
      "1122.0464532632427\n",
      "1260.4152120890387\n",
      "1259.8131936061855\n",
      "1127.953888677817\n",
      "1123.6072905589253\n",
      "(1, 1, 1)\n",
      "1236.0755563969005\n",
      "1238.071856565431\n",
      "1132.6369158592092\n",
      "1105.3295056540856\n",
      "1238.070245301397\n",
      "1239.3287860220953\n",
      "1111.0265878446144\n",
      "1106.6116198638772\n",
      "Best SARIMAX(0, 1, 1)x(0, 1, 1, 12)12 model - AIC:1103.4853748187281\n"
     ]
    },
    {
     "ename": "FileNotFoundError",
     "evalue": "[Errno 2] File b'State_predictions/Kolhapur_Jun/RMSE_score.csv' does not exist: b'State_predictions/Kolhapur_Jun/RMSE_score.csv'",
     "output_type": "error",
     "traceback": [
      "\u001b[0;31m---------------------------------------------------------------------------\u001b[0m",
      "\u001b[0;31mFileNotFoundError\u001b[0m                         Traceback (most recent call last)",
      "\u001b[0;32m<ipython-input-11-73ddf3ef0125>\u001b[0m in \u001b[0;36m<module>\u001b[0;34m\u001b[0m\n\u001b[1;32m     49\u001b[0m \u001b[0;34m\u001b[0m\u001b[0m\n\u001b[1;32m     50\u001b[0m         \u001b[0mmse\u001b[0m\u001b[0;34m,\u001b[0m \u001b[0mmae\u001b[0m\u001b[0;34m,\u001b[0m \u001b[0mmape\u001b[0m\u001b[0;34m,\u001b[0m \u001b[0mrmse\u001b[0m \u001b[0;34m=\u001b[0m \u001b[0mcalculate_performance\u001b[0m\u001b[0;34m(\u001b[0m\u001b[0my_true\u001b[0m\u001b[0;34m,\u001b[0m \u001b[0mforecasted_values\u001b[0m\u001b[0;34m)\u001b[0m\u001b[0;34m\u001b[0m\u001b[0;34m\u001b[0m\u001b[0m\n\u001b[0;32m---> 51\u001b[0;31m         \u001b[0mRMSE_score\u001b[0m \u001b[0;34m=\u001b[0m \u001b[0mpd\u001b[0m\u001b[0;34m.\u001b[0m\u001b[0mread_csv\u001b[0m\u001b[0;34m(\u001b[0m\u001b[0moutput_folder\u001b[0m \u001b[0;34m+\u001b[0m \u001b[0;34m'RMSE_score.csv'\u001b[0m\u001b[0;34m)\u001b[0m\u001b[0;34m\u001b[0m\u001b[0;34m\u001b[0m\u001b[0m\n\u001b[0m\u001b[1;32m     52\u001b[0m         \u001b[0mbest_method\u001b[0m \u001b[0;34m=\u001b[0m \u001b[0mRMSE_score\u001b[0m\u001b[0;34m.\u001b[0m\u001b[0miloc\u001b[0m\u001b[0;34m[\u001b[0m\u001b[0mRMSE_score\u001b[0m\u001b[0;34m.\u001b[0m\u001b[0mRMSE\u001b[0m\u001b[0;34m.\u001b[0m\u001b[0margmin\u001b[0m\u001b[0;34m]\u001b[0m\u001b[0;34m[\u001b[0m\u001b[0;34m'Unnamed: 0'\u001b[0m\u001b[0;34m]\u001b[0m\u001b[0;34m\u001b[0m\u001b[0;34m\u001b[0m\u001b[0m\n\u001b[1;32m     53\u001b[0m         \u001b[0mRMSE_score\u001b[0m \u001b[0;34m=\u001b[0m \u001b[0mRMSE_score\u001b[0m\u001b[0;34m.\u001b[0m\u001b[0mappend\u001b[0m\u001b[0;34m(\u001b[0m\u001b[0;34m{\u001b[0m\u001b[0;34m'Unnamed: 0'\u001b[0m\u001b[0;34m:\u001b[0m \u001b[0;34m'ARIMA'\u001b[0m\u001b[0;34m,\u001b[0m \u001b[0;34m'RMSE'\u001b[0m\u001b[0;34m:\u001b[0m \u001b[0mstr\u001b[0m\u001b[0;34m(\u001b[0m\u001b[0mrmse\u001b[0m\u001b[0;34m)\u001b[0m\u001b[0;34m}\u001b[0m\u001b[0;34m,\u001b[0m \u001b[0mignore_index\u001b[0m\u001b[0;34m=\u001b[0m\u001b[0;32mTrue\u001b[0m\u001b[0;34m)\u001b[0m\u001b[0;34m\u001b[0m\u001b[0;34m\u001b[0m\u001b[0m\n",
      "\u001b[0;32m~/anaconda3/lib/python3.7/site-packages/pandas/io/parsers.py\u001b[0m in \u001b[0;36mparser_f\u001b[0;34m(filepath_or_buffer, sep, delimiter, header, names, index_col, usecols, squeeze, prefix, mangle_dupe_cols, dtype, engine, converters, true_values, false_values, skipinitialspace, skiprows, skipfooter, nrows, na_values, keep_default_na, na_filter, verbose, skip_blank_lines, parse_dates, infer_datetime_format, keep_date_col, date_parser, dayfirst, iterator, chunksize, compression, thousands, decimal, lineterminator, quotechar, quoting, doublequote, escapechar, comment, encoding, dialect, tupleize_cols, error_bad_lines, warn_bad_lines, delim_whitespace, low_memory, memory_map, float_precision)\u001b[0m\n\u001b[1;32m    700\u001b[0m                     skip_blank_lines=skip_blank_lines)\n\u001b[1;32m    701\u001b[0m \u001b[0;34m\u001b[0m\u001b[0m\n\u001b[0;32m--> 702\u001b[0;31m         \u001b[0;32mreturn\u001b[0m \u001b[0m_read\u001b[0m\u001b[0;34m(\u001b[0m\u001b[0mfilepath_or_buffer\u001b[0m\u001b[0;34m,\u001b[0m \u001b[0mkwds\u001b[0m\u001b[0;34m)\u001b[0m\u001b[0;34m\u001b[0m\u001b[0;34m\u001b[0m\u001b[0m\n\u001b[0m\u001b[1;32m    703\u001b[0m \u001b[0;34m\u001b[0m\u001b[0m\n\u001b[1;32m    704\u001b[0m     \u001b[0mparser_f\u001b[0m\u001b[0;34m.\u001b[0m\u001b[0m__name__\u001b[0m \u001b[0;34m=\u001b[0m \u001b[0mname\u001b[0m\u001b[0;34m\u001b[0m\u001b[0;34m\u001b[0m\u001b[0m\n",
      "\u001b[0;32m~/anaconda3/lib/python3.7/site-packages/pandas/io/parsers.py\u001b[0m in \u001b[0;36m_read\u001b[0;34m(filepath_or_buffer, kwds)\u001b[0m\n\u001b[1;32m    427\u001b[0m \u001b[0;34m\u001b[0m\u001b[0m\n\u001b[1;32m    428\u001b[0m     \u001b[0;31m# Create the parser.\u001b[0m\u001b[0;34m\u001b[0m\u001b[0;34m\u001b[0m\u001b[0;34m\u001b[0m\u001b[0m\n\u001b[0;32m--> 429\u001b[0;31m     \u001b[0mparser\u001b[0m \u001b[0;34m=\u001b[0m \u001b[0mTextFileReader\u001b[0m\u001b[0;34m(\u001b[0m\u001b[0mfilepath_or_buffer\u001b[0m\u001b[0;34m,\u001b[0m \u001b[0;34m**\u001b[0m\u001b[0mkwds\u001b[0m\u001b[0;34m)\u001b[0m\u001b[0;34m\u001b[0m\u001b[0;34m\u001b[0m\u001b[0m\n\u001b[0m\u001b[1;32m    430\u001b[0m \u001b[0;34m\u001b[0m\u001b[0m\n\u001b[1;32m    431\u001b[0m     \u001b[0;32mif\u001b[0m \u001b[0mchunksize\u001b[0m \u001b[0;32mor\u001b[0m \u001b[0miterator\u001b[0m\u001b[0;34m:\u001b[0m\u001b[0;34m\u001b[0m\u001b[0;34m\u001b[0m\u001b[0m\n",
      "\u001b[0;32m~/anaconda3/lib/python3.7/site-packages/pandas/io/parsers.py\u001b[0m in \u001b[0;36m__init__\u001b[0;34m(self, f, engine, **kwds)\u001b[0m\n\u001b[1;32m    893\u001b[0m             \u001b[0mself\u001b[0m\u001b[0;34m.\u001b[0m\u001b[0moptions\u001b[0m\u001b[0;34m[\u001b[0m\u001b[0;34m'has_index_names'\u001b[0m\u001b[0;34m]\u001b[0m \u001b[0;34m=\u001b[0m \u001b[0mkwds\u001b[0m\u001b[0;34m[\u001b[0m\u001b[0;34m'has_index_names'\u001b[0m\u001b[0;34m]\u001b[0m\u001b[0;34m\u001b[0m\u001b[0;34m\u001b[0m\u001b[0m\n\u001b[1;32m    894\u001b[0m \u001b[0;34m\u001b[0m\u001b[0m\n\u001b[0;32m--> 895\u001b[0;31m         \u001b[0mself\u001b[0m\u001b[0;34m.\u001b[0m\u001b[0m_make_engine\u001b[0m\u001b[0;34m(\u001b[0m\u001b[0mself\u001b[0m\u001b[0;34m.\u001b[0m\u001b[0mengine\u001b[0m\u001b[0;34m)\u001b[0m\u001b[0;34m\u001b[0m\u001b[0;34m\u001b[0m\u001b[0m\n\u001b[0m\u001b[1;32m    896\u001b[0m \u001b[0;34m\u001b[0m\u001b[0m\n\u001b[1;32m    897\u001b[0m     \u001b[0;32mdef\u001b[0m \u001b[0mclose\u001b[0m\u001b[0;34m(\u001b[0m\u001b[0mself\u001b[0m\u001b[0;34m)\u001b[0m\u001b[0;34m:\u001b[0m\u001b[0;34m\u001b[0m\u001b[0;34m\u001b[0m\u001b[0m\n",
      "\u001b[0;32m~/anaconda3/lib/python3.7/site-packages/pandas/io/parsers.py\u001b[0m in \u001b[0;36m_make_engine\u001b[0;34m(self, engine)\u001b[0m\n\u001b[1;32m   1120\u001b[0m     \u001b[0;32mdef\u001b[0m \u001b[0m_make_engine\u001b[0m\u001b[0;34m(\u001b[0m\u001b[0mself\u001b[0m\u001b[0;34m,\u001b[0m \u001b[0mengine\u001b[0m\u001b[0;34m=\u001b[0m\u001b[0;34m'c'\u001b[0m\u001b[0;34m)\u001b[0m\u001b[0;34m:\u001b[0m\u001b[0;34m\u001b[0m\u001b[0;34m\u001b[0m\u001b[0m\n\u001b[1;32m   1121\u001b[0m         \u001b[0;32mif\u001b[0m \u001b[0mengine\u001b[0m \u001b[0;34m==\u001b[0m \u001b[0;34m'c'\u001b[0m\u001b[0;34m:\u001b[0m\u001b[0;34m\u001b[0m\u001b[0;34m\u001b[0m\u001b[0m\n\u001b[0;32m-> 1122\u001b[0;31m             \u001b[0mself\u001b[0m\u001b[0;34m.\u001b[0m\u001b[0m_engine\u001b[0m \u001b[0;34m=\u001b[0m \u001b[0mCParserWrapper\u001b[0m\u001b[0;34m(\u001b[0m\u001b[0mself\u001b[0m\u001b[0;34m.\u001b[0m\u001b[0mf\u001b[0m\u001b[0;34m,\u001b[0m \u001b[0;34m**\u001b[0m\u001b[0mself\u001b[0m\u001b[0;34m.\u001b[0m\u001b[0moptions\u001b[0m\u001b[0;34m)\u001b[0m\u001b[0;34m\u001b[0m\u001b[0;34m\u001b[0m\u001b[0m\n\u001b[0m\u001b[1;32m   1123\u001b[0m         \u001b[0;32melse\u001b[0m\u001b[0;34m:\u001b[0m\u001b[0;34m\u001b[0m\u001b[0;34m\u001b[0m\u001b[0m\n\u001b[1;32m   1124\u001b[0m             \u001b[0;32mif\u001b[0m \u001b[0mengine\u001b[0m \u001b[0;34m==\u001b[0m \u001b[0;34m'python'\u001b[0m\u001b[0;34m:\u001b[0m\u001b[0;34m\u001b[0m\u001b[0;34m\u001b[0m\u001b[0m\n",
      "\u001b[0;32m~/anaconda3/lib/python3.7/site-packages/pandas/io/parsers.py\u001b[0m in \u001b[0;36m__init__\u001b[0;34m(self, src, **kwds)\u001b[0m\n\u001b[1;32m   1851\u001b[0m         \u001b[0mkwds\u001b[0m\u001b[0;34m[\u001b[0m\u001b[0;34m'usecols'\u001b[0m\u001b[0;34m]\u001b[0m \u001b[0;34m=\u001b[0m \u001b[0mself\u001b[0m\u001b[0;34m.\u001b[0m\u001b[0musecols\u001b[0m\u001b[0;34m\u001b[0m\u001b[0;34m\u001b[0m\u001b[0m\n\u001b[1;32m   1852\u001b[0m \u001b[0;34m\u001b[0m\u001b[0m\n\u001b[0;32m-> 1853\u001b[0;31m         \u001b[0mself\u001b[0m\u001b[0;34m.\u001b[0m\u001b[0m_reader\u001b[0m \u001b[0;34m=\u001b[0m \u001b[0mparsers\u001b[0m\u001b[0;34m.\u001b[0m\u001b[0mTextReader\u001b[0m\u001b[0;34m(\u001b[0m\u001b[0msrc\u001b[0m\u001b[0;34m,\u001b[0m \u001b[0;34m**\u001b[0m\u001b[0mkwds\u001b[0m\u001b[0;34m)\u001b[0m\u001b[0;34m\u001b[0m\u001b[0;34m\u001b[0m\u001b[0m\n\u001b[0m\u001b[1;32m   1854\u001b[0m         \u001b[0mself\u001b[0m\u001b[0;34m.\u001b[0m\u001b[0munnamed_cols\u001b[0m \u001b[0;34m=\u001b[0m \u001b[0mself\u001b[0m\u001b[0;34m.\u001b[0m\u001b[0m_reader\u001b[0m\u001b[0;34m.\u001b[0m\u001b[0munnamed_cols\u001b[0m\u001b[0;34m\u001b[0m\u001b[0;34m\u001b[0m\u001b[0m\n\u001b[1;32m   1855\u001b[0m \u001b[0;34m\u001b[0m\u001b[0m\n",
      "\u001b[0;32mpandas/_libs/parsers.pyx\u001b[0m in \u001b[0;36mpandas._libs.parsers.TextReader.__cinit__\u001b[0;34m()\u001b[0m\n",
      "\u001b[0;32mpandas/_libs/parsers.pyx\u001b[0m in \u001b[0;36mpandas._libs.parsers.TextReader._setup_parser_source\u001b[0;34m()\u001b[0m\n",
      "\u001b[0;31mFileNotFoundError\u001b[0m: [Errno 2] File b'State_predictions/Kolhapur_Jun/RMSE_score.csv' does not exist: b'State_predictions/Kolhapur_Jun/RMSE_score.csv'"
     ]
    },
    {
     "data": {
      "image/png": "[encoded data removed]",
      "text/plain": [
       "<Figure size 720x360 with 1 Axes>"
      ]
     },
     "metadata": {
      "needs_background": "light"
     },
     "output_type": "display_data"
    },
    {
     "data": {
      "image/png": "[encoded data removed]",
      "text/plain": [
       "<Figure size 720x360 with 1 Axes>"
      ]
     },
     "metadata": {
      "needs_background": "light"
     },
     "output_type": "display_data"
    }
   ],
   "source": [
    "for district in districts_of_interest:\n",
    "    temp_data = rainfall_season_data[['Date', 'Year', 'Month', district]]\n",
    "    for month in months_of_interest:\n",
    "        df = temp_data[temp_data.Month == month]\n",
    "        df.index = range(len(df))\n",
    "        df = df[['Date', district]]\n",
    "        dates = df.Date\n",
    "        \n",
    "        rainfall_data = pd.DataFrame({'Precipitation': df[district][:-1*future_steps]})\n",
    "        rainfall_data.index = dates[:-1*future_steps]\n",
    "        \n",
    "        test_rainfall_data = pd.DataFrame({'Precipitation': df[district][-1*future_steps:]})\n",
    "        test_rainfall_data.index = dates[-1*future_steps:]\n",
    "        \n",
    "        scaler = MinMaxScaler(feature_range=(0, 1))\n",
    "        scaler.fit(rainfall_data)\n",
    "\n",
    "        output_folder = STORAGE_FOLDER + district + '_' + month + '/'\n",
    "        print(output_folder)\n",
    "        if not os.path.exists(output_folder):\n",
    "            os.makedirs(output_folder)\n",
    "\n",
    "        ARIMA = reload(ARIMA)\n",
    "        forecasted_values = ARIMA.ARIMA(rainfall_data, output_folder, future_steps)\n",
    "\n",
    "        errors = test_rainfall_data.Precipitation - forecasted_values\n",
    "        ARIMA_actual_forecasted = pd.DataFrame({'Actual': test_rainfall_data.Precipitation, \n",
    "                                               'Forecasted': forecasted_values,\n",
    "                                               'Errors': errors})\n",
    "        ARIMA_actual_forecasted.to_csv(output_folder + '/' + 'ARIMA_actual_and_forecasted.csv')\n",
    "\n",
    "        plt.figure(figsize=(10,5))\n",
    "        plt.plot(ARIMA_actual_forecasted.drop(columns=['Actual', 'Forecasted']), color='blue', label='Error: Actual - Forecasted')\n",
    "        plt.xlabel('Year')\n",
    "        plt.ylabel('Error')\n",
    "        plt.legend(loc='best')\n",
    "        plt.title('ARIMA - Error: Actual - Forecasted')\n",
    "        plt.savefig(output_folder + 'ARIMA_error_plot'  + '.png')\n",
    "\n",
    "        y_true = test_rainfall_data.ix[:int(future_steps)]\n",
    "        plt.figure(figsize=(10,5))\n",
    "        plt.plot(y_true, color='green', label='Actual values')\n",
    "        plt.plot(forecasted_values, color='red', label='Forecasted values')\n",
    "        plt.xlabel('Year')\n",
    "        plt.ylabel('Monthly mean Precipitation')\n",
    "        plt.legend(loc='best')\n",
    "        plt.title('ARIMA - Comaprison: Actual vs Forecasted')\n",
    "        plt.savefig(output_folder + 'ARIMA_best_forecast'  + '.png')\n",
    "\n",
    "        mse, mae, mape, rmse = calculate_performance(y_true, forecasted_values)\n",
    "        RMSE_score = pd.read_csv(output_folder + 'RMSE_score.csv')\n",
    "        best_method = RMSE_score.iloc[RMSE_score.RMSE.argmin]['Unnamed: 0']\n",
    "        RMSE_score = RMSE_score.append({'Unnamed: 0': 'ARIMA', 'RMSE': str(rmse)}, ignore_index=True)\n",
    "        RMSE_score.RMSE = RMSE_score.RMSE.astype('float')\n",
    "\n",
    "        current_best_method = RMSE_score.iloc[RMSE_score.RMSE.argmin]['Unnamed: 0']\n",
    "\n",
    "        RMSE_score = RMSE_score.set_index('Unnamed: 0')\n",
    "        RMSE_score.to_csv(output_folder + 'RMSE_score.csv')\n",
    "\n",
    "        axis = RMSE_score.plot(kind='bar', figsize=(10,5), rot=0, title='RMSE scores')\n",
    "        axis.set_xlabel('Method name')\n",
    "        for p in axis.patches:\n",
    "            axis.annotate(np.round(p.get_height(),decimals=2), \n",
    "                        (p.get_x()+p.get_width()/2., p.get_height()), \n",
    "                        ha='center', va='center', xytext=(0, 10), \n",
    "                        textcoords='offset points', fontsize=14, color='black')\n",
    "\n",
    "        fig = axis.get_figure()\n",
    "        fig.savefig(output_folder + 'RMSE.png')\n",
    "\n",
    "        if current_best_method == 'ARIMA':\n",
    "            y_true = test_rainfall_data.ix[:int(future_steps)]\n",
    "            plt.figure(figsize=(10,5))\n",
    "            plt.plot(y_true, color='green', label='Actual values')\n",
    "            plt.plot(forecasted_values, color='red', label='Forecasted values')\n",
    "            plt.xlabel('Year')\n",
    "            plt.ylabel('Monthly mean Precipitation')\n",
    "            plt.legend(loc='best')\n",
    "            plt.title('Best of all: ARIMA - Comaprison: Actual vs Forecasted')\n",
    "            plt.savefig(output_folder + 'BEST_FORECAST_ARIMA'  + '.png')\n",
    "            os.remove(output_folder + 'BEST_FORECAST_' + best_method + '.png')"
   ]
  },
  {
   "cell_type": "code",
   "execution_count": null,
   "metadata": {
    "id": "lHeBhOS_xEKH"
   },
   "outputs": [],
   "source": []
  }
 ],
 "metadata": {
  "colab": {
   "name": "main.ipynb",
   "provenance": [],
   "toc_visible": true
  },
  "kernelspec": {
   "display_name": "Python 3",
   "language": "python",
   "name": "python3"
  },
  "language_info": {
   "codemirror_mode": {
    "name": "ipython",
    "version": 3
   },
   "file_extension": ".py",
   "mimetype": "text/x-python",
   "name": "python",
   "nbconvert_exporter": "python",
   "pygments_lexer": "ipython3",
   "version": "3.7.6"
  }
 },
 "nbformat": 4,
 "nbformat_minor": 1
}
